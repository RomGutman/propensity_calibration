{
 "cells": [
  {
   "cell_type": "code",
   "execution_count": 212,
   "id": "9bf0da7d",
   "metadata": {},
   "outputs": [
    {
     "name": "stdout",
     "output_type": "stream",
     "text": [
      "The autoreload extension is already loaded. To reload it, use:\n",
      "  %reload_ext autoreload\n"
     ]
    }
   ],
   "source": [
    "%load_ext autoreload\n",
    "%autoreload 1\n",
    "\n",
    "import os\n",
    "\n",
    "import numpy as np\n",
    "from scipy.special import expit\n",
    "import matplotlib.pyplot as plt\n",
    "import pandas as pd\n",
    "from sklearn.metrics import brier_score_loss\n",
    "from sklearn.calibration import calibration_curve\n",
    "from statsmodels.nonparametric.smoothers_lowess import lowess\n",
    "\n",
    "\n",
    "from utils import get_variables, expit_transform, treatment_assigment, get_potential_outcomes\n",
    "%aimport utils\n"
   ]
  },
  {
   "cell_type": "markdown",
   "id": "186275ab-b90f-432f-a686-5dc91950ac1a",
   "metadata": {},
   "source": [
    "# Random variables defintions"
   ]
  },
  {
   "cell_type": "code",
   "execution_count": 203,
   "id": "b1a5dda9-e54f-4471-b7cd-57f5a41ef647",
   "metadata": {},
   "outputs": [],
   "source": [
    "amount_of_vars = 4\n",
    "intercept = 0\n",
    "mean = 0\n",
    "std = 1\n",
    "n = 10000\n",
    "\n",
    "noise_mean = 1\n",
    "noise_std = 0\n",
    "\n",
    "num_of_experiments = 1000\n",
    "\n",
    "\n",
    "variables, noise = get_variables(mean_=mean, std_=std, n_=n, m_=amount_of_vars, noise_mean_=noise_mean, noise_std_=noise_std )\n",
    "\n"
   ]
  },
  {
   "cell_type": "markdown",
   "id": "26b053ad-1d05-4397-bb02-9a1f5d3778eb",
   "metadata": {},
   "source": [
    "# Prop model"
   ]
  },
  {
   "cell_type": "markdown",
   "id": "bf409b65-5edd-47b9-bfe5-3be9f920ecb9",
   "metadata": {},
   "source": [
    "## $\\pi$ model"
   ]
  },
  {
   "cell_type": "code",
   "execution_count": 208,
   "id": "db30810d-2b56-457c-aa78-7faa835d33d2",
   "metadata": {},
   "outputs": [
    {
     "data": {
      "image/png": "[encoded data removed]",
      "text/plain": [
       "<Figure size 432x288 with 1 Axes>"
      ]
     },
     "metadata": {
      "needs_background": "light"
     },
     "output_type": "display_data"
    }
   ],
   "source": [
    "coef = np.array([-0.1, .05, .2, -.05])\n",
    "\n",
    "exp = expit_transform(coef, variables)\n",
    "plt.hist(exp, bins=20);"
   ]
  },
  {
   "cell_type": "markdown",
   "id": "632a87d6-8e27-4081-b3eb-e102837c88f0",
   "metadata": {},
   "source": [
    "## Treatment assigment"
   ]
  },
  {
   "cell_type": "code",
   "execution_count": 210,
   "id": "ed25813f-4633-4d1f-87b4-f9ff230a08d4",
   "metadata": {},
   "outputs": [
    {
     "data": {
      "image/png": "[encoded data removed]",
      "text/plain": [
       "<Figure size 720x720 with 1 Axes>"
      ]
     },
     "metadata": {
      "needs_background": "light"
     },
     "output_type": "display_data"
    }
   ],
   "source": [
    "\n",
    "\n",
    "\n",
    "t = treatment_assigment(exp)\n",
    "\n",
    "fig = plt.figure(figsize=(10, 10))\n",
    "\n",
    "plt.hist(exp[t == 1], bins=20, color='cornflowerblue', alpha=0.7, label= 'Treated');\n",
    "plt.hist(exp[t == 0], bins=20, color='red', alpha=0.7, label= 'Treated');\n",
    "\n",
    "plt.legend();"
   ]
  },
  {
   "cell_type": "markdown",
   "id": "13804c9a-b878-4d8f-9a0b-3acbee97bc7d",
   "metadata": {},
   "source": [
    "# Outcome model"
   ]
  },
  {
   "cell_type": "code",
   "execution_count": 236,
   "id": "767f45eb-34ec-46bf-8229-7568e915525d",
   "metadata": {},
   "outputs": [],
   "source": [
    "y_coef = np.array([5, 1.2, 3.6, 1.2, 1.2, .0])\n",
    "\n",
    "potential_outcomes_lst = utils.get_potential_outcomes(variables, y_coef, noise)\n",
    "\n",
    "y = np.where(t == 1, potential_outcomes_lst[1], potential_outcomes_lst[0])\n"
   ]
  },
  {
   "cell_type": "code",
   "execution_count": 257,
   "id": "1c355340-0dde-4b7d-86f3-26ae0d281f9e",
   "metadata": {},
   "outputs": [],
   "source": [
    "ate = (potential_outcomes_lst[1]  - potential_outcomes_lst[0]).mean()\n",
    "ate_hat = utils.calc_ipw(y, t, exp)"
   ]
  },
  {
   "cell_type": "code",
   "execution_count": 258,
   "id": "836e0b40-e299-4e4b-93ca-5180e3cc09d1",
   "metadata": {},
   "outputs": [
    {
     "data": {
      "text/plain": [
       "-0.2984415867562076"
      ]
     },
     "execution_count": 258,
     "metadata": {},
     "output_type": "execute_result"
    }
   ],
   "source": [
    "ate - ate_hat"
   ]
  },
  {
   "cell_type": "code",
   "execution_count": 259,
   "id": "73a49389-5788-48bc-aab6-10cd98446baa",
   "metadata": {},
   "outputs": [
    {
     "data": {
      "text/plain": [
       "1.0596883173512415"
      ]
     },
     "execution_count": 259,
     "metadata": {},
     "output_type": "execute_result"
    }
   ],
   "source": [
    "ate_hat / ate"
   ]
  },
  {
   "cell_type": "markdown",
   "id": "917edaa5-84e6-42d7-923a-a29cd5ed7576",
   "metadata": {},
   "source": [
    "# Calibration Calculation"
   ]
  },
  {
   "cell_type": "code",
   "execution_count": 252,
   "id": "9810a51a-9125-4eba-9717-9ab6f466f74d",
   "metadata": {},
   "outputs": [
    {
     "data": {
      "text/html": [
       "<div>\n",
       "<style scoped>\n",
       "    .dataframe tbody tr th:only-of-type {\n",
       "        vertical-align: middle;\n",
       "    }\n",
       "\n",
       "    .dataframe tbody tr th {\n",
       "        vertical-align: top;\n",
       "    }\n",
       "\n",
       "    .dataframe thead th {\n",
       "        text-align: right;\n",
       "    }\n",
       "</style>\n",
       "<table border=\"1\" class=\"dataframe\">\n",
       "  <thead>\n",
       "    <tr style=\"text-align: right;\">\n",
       "      <th></th>\n",
       "      <th>count</th>\n",
       "      <th>mean</th>\n",
       "      <th>std</th>\n",
       "      <th>min</th>\n",
       "      <th>10%</th>\n",
       "      <th>50%</th>\n",
       "      <th>90%</th>\n",
       "      <th>max</th>\n",
       "      <th>brier</th>\n",
       "    </tr>\n",
       "  </thead>\n",
       "  <tbody>\n",
       "    <tr>\n",
       "      <th>0</th>\n",
       "      <td>10000.0</td>\n",
       "      <td>0.012729</td>\n",
       "      <td>0.008602</td>\n",
       "      <td>5.416672e-07</td>\n",
       "      <td>0.003705</td>\n",
       "      <td>0.010737</td>\n",
       "      <td>0.026657</td>\n",
       "      <td>0.047116</td>\n",
       "      <td>0.227148</td>\n",
       "    </tr>\n",
       "  </tbody>\n",
       "</table>\n",
       "</div>"
      ],
      "text/plain": [
       "     count      mean       std  ...       90%       max     brier\n",
       "0  10000.0  0.012729  0.008602  ...  0.026657  0.047116  0.227148\n",
       "\n",
       "[1 rows x 9 columns]"
      ]
     },
     "execution_count": 252,
     "metadata": {},
     "output_type": "execute_result"
    }
   ],
   "source": [
    "\n",
    "err_s = pd.Series(err)\n",
    "brier_score = brier_score_loss(t, exp)\n",
    "brier = pd.Series(brier_score, index=['brier'])\n",
    "\n",
    "calib_res_df = err_s.describe(percentiles=[.1, .5, .9]).append(brier).to_frame().T"
   ]
  },
  {
   "cell_type": "code",
   "execution_count": 260,
   "id": "f4b45e15-530b-4b86-9fba-8f3e9df63ff6",
   "metadata": {},
   "outputs": [
    {
     "data": {
      "text/html": [
       "<div>\n",
       "<style scoped>\n",
       "    .dataframe tbody tr th:only-of-type {\n",
       "        vertical-align: middle;\n",
       "    }\n",
       "\n",
       "    .dataframe tbody tr th {\n",
       "        vertical-align: top;\n",
       "    }\n",
       "\n",
       "    .dataframe thead th {\n",
       "        text-align: right;\n",
       "    }\n",
       "</style>\n",
       "<table border=\"1\" class=\"dataframe\">\n",
       "  <thead>\n",
       "    <tr style=\"text-align: right;\">\n",
       "      <th></th>\n",
       "      <th>count</th>\n",
       "      <th>mean</th>\n",
       "      <th>std</th>\n",
       "      <th>min</th>\n",
       "      <th>10%</th>\n",
       "      <th>50%</th>\n",
       "      <th>90%</th>\n",
       "      <th>max</th>\n",
       "      <th>brier</th>\n",
       "      <th>ATE</th>\n",
       "    </tr>\n",
       "  </thead>\n",
       "  <tbody>\n",
       "    <tr>\n",
       "      <th>0</th>\n",
       "      <td>10000.0</td>\n",
       "      <td>0.012729</td>\n",
       "      <td>0.008602</td>\n",
       "      <td>5.416672e-07</td>\n",
       "      <td>0.003705</td>\n",
       "      <td>0.010737</td>\n",
       "      <td>0.026657</td>\n",
       "      <td>0.047116</td>\n",
       "      <td>0.227148</td>\n",
       "      <td>5.298442</td>\n",
       "    </tr>\n",
       "  </tbody>\n",
       "</table>\n",
       "</div>"
      ],
      "text/plain": [
       "     count      mean       std  ...       max     brier       ATE\n",
       "0  10000.0  0.012729  0.008602  ...  0.047116  0.227148  5.298442\n",
       "\n",
       "[1 rows x 10 columns]"
      ]
     },
     "execution_count": 260,
     "metadata": {},
     "output_type": "execute_result"
    }
   ],
   "source": [
    "utils.generate_calib_error_df(t, exp).assign(ATE=ate_hat)"
   ]
  },
  {
   "cell_type": "markdown",
   "id": "528ec049-a2f1-4ff7-b0ca-1b032e7ff85e",
   "metadata": {},
   "source": [
    "## to check calibration methods"
   ]
  },
  {
   "cell_type": "code",
   "execution_count": 254,
   "id": "642c2141-afc6-485c-ae3a-a55979fa8778",
   "metadata": {},
   "outputs": [
    {
     "data": {
      "text/plain": [
       "<matplotlib.legend.Legend at 0x7f8fbcb55730>"
      ]
     },
     "execution_count": 254,
     "metadata": {},
     "output_type": "execute_result"
    },
    {
     "data": {
      "image/png": "[encoded data removed]",
      "text/plain": [
       "<Figure size 720x720 with 2 Axes>"
      ]
     },
     "metadata": {
      "needs_background": "light"
     },
     "output_type": "display_data"
    }
   ],
   "source": [
    "plt.figure(figsize=(10, 10))\n",
    "ax1 = plt.subplot2grid((3, 1), (0, 0), rowspan=2)\n",
    "ax2 = plt.subplot2grid((3, 1), (2, 0))\n",
    "\n",
    "ax1.plot([0, 1], [0, 1], \"k:\", label=\"Perfectly calibrated\")\n",
    "\n",
    "\n",
    "fraction_of_positives, mean_predicted_value = \\\n",
    "    calibration_curve(t, exp, n_bins=10)\n",
    "\n",
    "name = \"True\"\n",
    "\n",
    "ax1.plot(mean_predicted_value, fraction_of_positives, \"s-\",\n",
    "         label=f\"{name}\")\n",
    "\n",
    "ax2.hist(exp, range=(0, 1), bins=10, label=name, histtype=\"step\", lw=2)\n",
    "\n",
    "ax1.set_ylabel(\"Fraction of positives\")\n",
    "ax1.set_ylim([-0.05, 1.05])\n",
    "ax1.legend(loc=\"lower right\")\n",
    "ax1.set_title('Calibration plots  (reliability curve)')\n",
    "\n",
    "ax2.set_xlabel(\"Mean predicted value\")\n",
    "ax2.set_ylabel(\"Count\")\n",
    "ax2.legend(loc=\"upper center\", ncol=2)"
   ]
  },
  {
   "cell_type": "code",
   "execution_count": 193,
   "id": "408f2610-1718-4fc1-aa0c-84dfa0a13c8a",
   "metadata": {},
   "outputs": [],
   "source": [
    "from statsmodels.discrete.discrete_model import Logit\n",
    "from statsmodels.tools import add_constant"
   ]
  },
  {
   "cell_type": "code",
   "execution_count": 197,
   "id": "922ab929-d004-4f6b-bcae-59c476cf53c5",
   "metadata": {},
   "outputs": [],
   "source": [
    "lr = Logit(t, add_constant(exp))"
   ]
  },
  {
   "cell_type": "code",
   "execution_count": 198,
   "id": "482dd134-0791-42a9-8665-03a7483f2fbd",
   "metadata": {},
   "outputs": [
    {
     "name": "stdout",
     "output_type": "stream",
     "text": [
      "Optimization terminated successfully.\n",
      "         Current function value: 0.638424\n",
      "         Iterations 5\n"
     ]
    }
   ],
   "source": [
    "res = lr.fit()"
   ]
  },
  {
   "cell_type": "code",
   "execution_count": 199,
   "id": "58c25b0c-8248-4c94-b75b-866c53cdc3a2",
   "metadata": {},
   "outputs": [
    {
     "data": {
      "text/html": [
       "<table class=\"simpletable\">\n",
       "<tr>\n",
       "        <td>Model:</td>              <td>Logit</td>      <td>Pseudo R-squared:</td>    <td>0.079</td>   \n",
       "</tr>\n",
       "<tr>\n",
       "  <td>Dependent Variable:</td>         <td>y</td>              <td>AIC:</td>        <td>12772.4852</td> \n",
       "</tr>\n",
       "<tr>\n",
       "         <td>Date:</td>        <td>2021-06-16 09:45</td>       <td>BIC:</td>        <td>12786.9059</td> \n",
       "</tr>\n",
       "<tr>\n",
       "   <td>No. Observations:</td>        <td>10000</td>       <td>Log-Likelihood:</td>    <td>-6384.2</td>  \n",
       "</tr>\n",
       "<tr>\n",
       "       <td>Df Model:</td>              <td>1</td>            <td>LL-Null:</td>        <td>-6931.0</td>  \n",
       "</tr>\n",
       "<tr>\n",
       "     <td>Df Residuals:</td>          <td>9998</td>         <td>LLR p-value:</td>    <td>8.7230e-240</td>\n",
       "</tr>\n",
       "<tr>\n",
       "      <td>Converged:</td>           <td>1.0000</td>           <td>Scale:</td>         <td>1.0000</td>   \n",
       "</tr>\n",
       "<tr>\n",
       "    <td>No. Iterations:</td>        <td>5.0000</td>              <td></td>               <td></td>      \n",
       "</tr>\n",
       "</table>\n",
       "<table class=\"simpletable\">\n",
       "<tr>\n",
       "    <td></td>      <th>Coef.</th>  <th>Std.Err.</th>     <th>z</th>     <th>P>|z|</th>  <th>[0.025</th>   <th>0.975]</th> \n",
       "</tr>\n",
       "<tr>\n",
       "  <th>const</th> <td>-11.6532</td>  <td>0.3776</td>  <td>-30.8646</td> <td>0.0000</td> <td>-12.3932</td> <td>-10.9132</td>\n",
       "</tr>\n",
       "<tr>\n",
       "  <th>x1</th>     <td>18.7691</td>  <td>0.6060</td>   <td>30.9710</td> <td>0.0000</td>  <td>17.5813</td>  <td>19.9568</td>\n",
       "</tr>\n",
       "</table>"
      ],
      "text/plain": [
       "<class 'statsmodels.iolib.summary2.Summary'>\n",
       "\"\"\"\n",
       "                          Results: Logit\n",
       "==================================================================\n",
       "Model:              Logit            Pseudo R-squared: 0.079      \n",
       "Dependent Variable: y                AIC:              12772.4852 \n",
       "Date:               2021-06-16 09:45 BIC:              12786.9059 \n",
       "No. Observations:   10000            Log-Likelihood:   -6384.2    \n",
       "Df Model:           1                LL-Null:          -6931.0    \n",
       "Df Residuals:       9998             LLR p-value:      8.7230e-240\n",
       "Converged:          1.0000           Scale:            1.0000     \n",
       "No. Iterations:     5.0000                                        \n",
       "-------------------------------------------------------------------\n",
       "            Coef.    Std.Err.     z      P>|z|    [0.025    0.975] \n",
       "-------------------------------------------------------------------\n",
       "const      -11.6532    0.3776  -30.8646  0.0000  -12.3932  -10.9132\n",
       "x1          18.7691    0.6060   30.9710  0.0000   17.5813   19.9568\n",
       "==================================================================\n",
       "\n",
       "\"\"\""
      ]
     },
     "execution_count": 199,
     "metadata": {},
     "output_type": "execute_result"
    }
   ],
   "source": [
    "res.summary2()"
   ]
  },
  {
   "cell_type": "markdown",
   "id": "78f729a6-3b0e-40ce-9e05-af3c2b3bd23b",
   "metadata": {},
   "source": [
    "# full simulation"
   ]
  },
  {
   "cell_type": "code",
   "execution_count": 274,
   "id": "ee32808f-a485-493f-86d5-c8dd7a9b0e42",
   "metadata": {},
   "outputs": [
    {
     "name": "stderr",
     "output_type": "stream",
     "text": [
      "100%|██████████| 100/100 [06:17<00:00,  3.78s/it]\n"
     ]
    },
    {
     "data": {
      "text/html": [
       "<div>\n",
       "<style scoped>\n",
       "    .dataframe tbody tr th:only-of-type {\n",
       "        vertical-align: middle;\n",
       "    }\n",
       "\n",
       "    .dataframe tbody tr th {\n",
       "        vertical-align: top;\n",
       "    }\n",
       "\n",
       "    .dataframe thead th {\n",
       "        text-align: right;\n",
       "    }\n",
       "</style>\n",
       "<table border=\"1\" class=\"dataframe\">\n",
       "  <thead>\n",
       "    <tr style=\"text-align: right;\">\n",
       "      <th></th>\n",
       "      <th>count</th>\n",
       "      <th>mean</th>\n",
       "      <th>std</th>\n",
       "      <th>min</th>\n",
       "      <th>10%</th>\n",
       "      <th>50%</th>\n",
       "      <th>90%</th>\n",
       "      <th>max</th>\n",
       "      <th>brier</th>\n",
       "      <th>ATE</th>\n",
       "    </tr>\n",
       "  </thead>\n",
       "  <tbody>\n",
       "    <tr>\n",
       "      <th>0</th>\n",
       "      <td>10000.0</td>\n",
       "      <td>0.019331</td>\n",
       "      <td>0.013200</td>\n",
       "      <td>6.274410e-06</td>\n",
       "      <td>0.005048</td>\n",
       "      <td>0.014893</td>\n",
       "      <td>0.039038</td>\n",
       "      <td>0.075795</td>\n",
       "      <td>0.224056</td>\n",
       "      <td>4.388767</td>\n",
       "    </tr>\n",
       "    <tr>\n",
       "      <th>1</th>\n",
       "      <td>10000.0</td>\n",
       "      <td>0.020653</td>\n",
       "      <td>0.011274</td>\n",
       "      <td>4.478792e-07</td>\n",
       "      <td>0.006275</td>\n",
       "      <td>0.019917</td>\n",
       "      <td>0.036185</td>\n",
       "      <td>0.062299</td>\n",
       "      <td>0.224261</td>\n",
       "      <td>4.997267</td>\n",
       "    </tr>\n",
       "    <tr>\n",
       "      <th>2</th>\n",
       "      <td>10000.0</td>\n",
       "      <td>0.013910</td>\n",
       "      <td>0.010031</td>\n",
       "      <td>6.647945e-07</td>\n",
       "      <td>0.001129</td>\n",
       "      <td>0.011963</td>\n",
       "      <td>0.027995</td>\n",
       "      <td>0.028362</td>\n",
       "      <td>0.226935</td>\n",
       "      <td>4.717019</td>\n",
       "    </tr>\n",
       "    <tr>\n",
       "      <th>3</th>\n",
       "      <td>10000.0</td>\n",
       "      <td>0.007022</td>\n",
       "      <td>0.006109</td>\n",
       "      <td>1.999224e-06</td>\n",
       "      <td>0.002822</td>\n",
       "      <td>0.003908</td>\n",
       "      <td>0.016528</td>\n",
       "      <td>0.036659</td>\n",
       "      <td>0.227879</td>\n",
       "      <td>4.590038</td>\n",
       "    </tr>\n",
       "    <tr>\n",
       "      <th>4</th>\n",
       "      <td>10000.0</td>\n",
       "      <td>0.015915</td>\n",
       "      <td>0.008163</td>\n",
       "      <td>6.112302e-06</td>\n",
       "      <td>0.004986</td>\n",
       "      <td>0.013926</td>\n",
       "      <td>0.027259</td>\n",
       "      <td>0.051766</td>\n",
       "      <td>0.227169</td>\n",
       "      <td>4.647127</td>\n",
       "    </tr>\n",
       "    <tr>\n",
       "      <th>...</th>\n",
       "      <td>...</td>\n",
       "      <td>...</td>\n",
       "      <td>...</td>\n",
       "      <td>...</td>\n",
       "      <td>...</td>\n",
       "      <td>...</td>\n",
       "      <td>...</td>\n",
       "      <td>...</td>\n",
       "      <td>...</td>\n",
       "      <td>...</td>\n",
       "    </tr>\n",
       "    <tr>\n",
       "      <th>95</th>\n",
       "      <td>10000.0</td>\n",
       "      <td>0.020187</td>\n",
       "      <td>0.008888</td>\n",
       "      <td>1.063036e-05</td>\n",
       "      <td>0.006564</td>\n",
       "      <td>0.021886</td>\n",
       "      <td>0.030245</td>\n",
       "      <td>0.048268</td>\n",
       "      <td>0.225301</td>\n",
       "      <td>5.182133</td>\n",
       "    </tr>\n",
       "    <tr>\n",
       "      <th>96</th>\n",
       "      <td>10000.0</td>\n",
       "      <td>0.021073</td>\n",
       "      <td>0.014892</td>\n",
       "      <td>6.018501e-07</td>\n",
       "      <td>0.004149</td>\n",
       "      <td>0.019453</td>\n",
       "      <td>0.041253</td>\n",
       "      <td>0.086617</td>\n",
       "      <td>0.222902</td>\n",
       "      <td>5.260816</td>\n",
       "    </tr>\n",
       "    <tr>\n",
       "      <th>97</th>\n",
       "      <td>10000.0</td>\n",
       "      <td>0.026513</td>\n",
       "      <td>0.013066</td>\n",
       "      <td>1.552624e-05</td>\n",
       "      <td>0.006379</td>\n",
       "      <td>0.028787</td>\n",
       "      <td>0.042530</td>\n",
       "      <td>0.055371</td>\n",
       "      <td>0.222552</td>\n",
       "      <td>5.301965</td>\n",
       "    </tr>\n",
       "    <tr>\n",
       "      <th>98</th>\n",
       "      <td>10000.0</td>\n",
       "      <td>0.018412</td>\n",
       "      <td>0.013736</td>\n",
       "      <td>1.686210e-07</td>\n",
       "      <td>0.001648</td>\n",
       "      <td>0.017348</td>\n",
       "      <td>0.034506</td>\n",
       "      <td>0.077140</td>\n",
       "      <td>0.224442</td>\n",
       "      <td>4.608985</td>\n",
       "    </tr>\n",
       "    <tr>\n",
       "      <th>99</th>\n",
       "      <td>10000.0</td>\n",
       "      <td>0.013035</td>\n",
       "      <td>0.006267</td>\n",
       "      <td>1.253549e-06</td>\n",
       "      <td>0.003777</td>\n",
       "      <td>0.013429</td>\n",
       "      <td>0.020460</td>\n",
       "      <td>0.026253</td>\n",
       "      <td>0.227356</td>\n",
       "      <td>4.839433</td>\n",
       "    </tr>\n",
       "  </tbody>\n",
       "</table>\n",
       "<p>100 rows × 10 columns</p>\n",
       "</div>"
      ],
      "text/plain": [
       "      count      mean       std  ...       max     brier       ATE\n",
       "0   10000.0  0.019331  0.013200  ...  0.075795  0.224056  4.388767\n",
       "1   10000.0  0.020653  0.011274  ...  0.062299  0.224261  4.997267\n",
       "2   10000.0  0.013910  0.010031  ...  0.028362  0.226935  4.717019\n",
       "3   10000.0  0.007022  0.006109  ...  0.036659  0.227879  4.590038\n",
       "4   10000.0  0.015915  0.008163  ...  0.051766  0.227169  4.647127\n",
       "..      ...       ...       ...  ...       ...       ...       ...\n",
       "95  10000.0  0.020187  0.008888  ...  0.048268  0.225301  5.182133\n",
       "96  10000.0  0.021073  0.014892  ...  0.086617  0.222902  5.260816\n",
       "97  10000.0  0.026513  0.013066  ...  0.055371  0.222552  5.301965\n",
       "98  10000.0  0.018412  0.013736  ...  0.077140  0.224442  4.608985\n",
       "99  10000.0  0.013035  0.006267  ...  0.026253  0.227356  4.839433\n",
       "\n",
       "[100 rows x 10 columns]"
      ]
     },
     "execution_count": 274,
     "metadata": {},
     "output_type": "execute_result"
    }
   ],
   "source": [
    "amount_of_vars = 4\n",
    "intercept = 0\n",
    "mean = 0\n",
    "std = 1\n",
    "n = 10000\n",
    "\n",
    "noise_mean = 1\n",
    "noise_std = 0\n",
    "\n",
    "coef = np.array([-0.1, .05, .2, -.05])\n",
    "y_coef = np.array([5, 1.2, 3.6, 1.2, 1.2, .0])\n",
    "\n",
    "num_of_experiments = 100\n",
    "\n",
    "calib_df = utils.generate_simulation(m=amount_of_vars, mean=mean, std=std, n=n, noise_mean=noise_mean,\n",
    "                                     noise_std=noise_std, coef=coef, y_coef=y_coef, num_of_experiments=num_of_experiments)\n",
    "\n",
    "\n",
    "calib_df"
   ]
  },
  {
   "cell_type": "code",
   "execution_count": null,
   "id": "db23a783-5afd-43cd-b107-96353e963957",
   "metadata": {},
   "outputs": [],
   "source": []
  }
 ],
 "metadata": {
  "kernelspec": {
   "display_name": "Python 3",
   "language": "python",
   "name": "python3"
  },
  "language_info": {
   "codemirror_mode": {
    "name": "ipython",
    "version": 3
   },
   "file_extension": ".py",
   "mimetype": "text/x-python",
   "name": "python",
   "nbconvert_exporter": "python",
   "pygments_lexer": "ipython3",
   "version": "3.8.8"
  }
 },
 "nbformat": 4,
 "nbformat_minor": 5
}
